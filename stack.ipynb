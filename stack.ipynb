{
  "nbformat": 4,
  "nbformat_minor": 0,
  "metadata": {
    "colab": {
      "provenance": []
    },
    "kernelspec": {
      "name": "python3",
      "display_name": "Python 3"
    },
    "language_info": {
      "name": "python"
    }
  },
  "cells": [
    {
      "cell_type": "code",
      "source": [
        "class StackDepth:\n",
        "  def maximumDepth(self, stringInput : str) -> int:\n",
        "    stack = []\n",
        "    count = 0\n",
        "    count_list = []\n",
        "    for x in stringInput:\n",
        "      if x =='(' or x == ')':\n",
        "        stack.append(x)\n",
        "    for i in stack:\n",
        "      if i == '(':\n",
        "        count+=1\n",
        "      count_list.append(count)\n",
        "      if i == ')':\n",
        "        count-=1\n",
        "    return max(count_list)\n",
        "\n",
        "if __name__=='__main__':\n",
        "  eqinput = input(\"Enter the equation: \")\n",
        "  print(StackDepth().maximumDepth(eqinput))\n",
        "\n",
        "\n",
        "\n",
        ""
      ],
      "metadata": {
        "colab": {
          "base_uri": "https://localhost:8080/",
          "height": 220
        },
        "id": "UBEKM3WTI1EE",
        "outputId": "10471a80-cc6f-4d9a-d4b5-5fc38ed13e9f"
      },
      "execution_count": 16,
      "outputs": [
        {
          "output_type": "error",
          "ename": "TypeError",
          "evalue": "'str' object is not callable",
          "traceback": [
            "\u001b[0;31m---------------------------------------------------------------------------\u001b[0m",
            "\u001b[0;31mTypeError\u001b[0m                                 Traceback (most recent call last)",
            "\u001b[0;32m<ipython-input-16-9180e06dd093>\u001b[0m in \u001b[0;36m<cell line: 0>\u001b[0;34m()\u001b[0m\n\u001b[1;32m     16\u001b[0m \u001b[0;34m\u001b[0m\u001b[0m\n\u001b[1;32m     17\u001b[0m \u001b[0;32mif\u001b[0m \u001b[0m__name__\u001b[0m\u001b[0;34m==\u001b[0m\u001b[0;34m'__main__'\u001b[0m\u001b[0;34m:\u001b[0m\u001b[0;34m\u001b[0m\u001b[0;34m\u001b[0m\u001b[0m\n\u001b[0;32m---> 18\u001b[0;31m   \u001b[0meqinput\u001b[0m \u001b[0;34m=\u001b[0m \u001b[0minput\u001b[0m\u001b[0;34m(\u001b[0m\u001b[0;34m\"Enter the equation: \"\u001b[0m\u001b[0;34m)\u001b[0m\u001b[0;34m\u001b[0m\u001b[0;34m\u001b[0m\u001b[0m\n\u001b[0m\u001b[1;32m     19\u001b[0m   \u001b[0mprint\u001b[0m\u001b[0;34m(\u001b[0m\u001b[0mStackDepth\u001b[0m\u001b[0;34m(\u001b[0m\u001b[0;34m)\u001b[0m\u001b[0;34m.\u001b[0m\u001b[0mmaximumDepth\u001b[0m\u001b[0;34m(\u001b[0m\u001b[0meqinput\u001b[0m\u001b[0;34m)\u001b[0m\u001b[0;34m)\u001b[0m\u001b[0;34m\u001b[0m\u001b[0;34m\u001b[0m\u001b[0m\n\u001b[1;32m     20\u001b[0m \u001b[0;34m\u001b[0m\u001b[0m\n",
            "\u001b[0;31mTypeError\u001b[0m: 'str' object is not callable"
          ]
        }
      ]
    },
    {
      "cell_type": "code",
      "source": [
        "class StackDepth:\n",
        "  def maximumDepth(self, stringInput : str) -> int:\n",
        "    stack = []\n",
        "    count = 0\n",
        "    count_list = []\n",
        "    for x in stringInput:\n",
        "      if x =='(' or x == ')':\n",
        "        stack.append(x)\n",
        "    for i in stack:\n",
        "      if i == '(':\n",
        "        count+=1\n",
        "      count_list.append(count)\n",
        "      if i == ')':\n",
        "        count-=1\n",
        "    return max(count_list)\n",
        "\n",
        "if __name__=='__main__':\n",
        "  # Use a different variable name, like 'eqinput', to avoid conflict with the built-in 'input' function.\n",
        "  eqinput = '(1)+((2))+(((3)))'\n",
        "  print(StackDepth().maximumDepth(eqinput))\n"
      ],
      "metadata": {
        "colab": {
          "base_uri": "https://localhost:8080/",
          "height": 0
        },
        "id": "qhrBfXThJ4ik",
        "outputId": "b25823b6-80ee-403d-b1f0-4022c3132ba2"
      },
      "execution_count": 18,
      "outputs": [
        {
          "output_type": "stream",
          "name": "stdout",
          "text": [
            "3\n"
          ]
        }
      ]
    },
    {
      "cell_type": "code",
      "source": [
        "class StackDepth:\n",
        "  def maximumDepth(self, stringInput : str) -> int:\n",
        "    stack = []\n",
        "    count = 0\n",
        "    count_list = []\n",
        "    for x in stringInput:\n",
        "      if x =='(' or x == ')':\n",
        "        stack.append(x)\n",
        "    for i in stack:\n",
        "      if i == '(':\n",
        "        count+=1\n",
        "      count_list.append(count)\n",
        "      if i == ')':\n",
        "        count-=1\n",
        "    return max(count_list)\n",
        "\n",
        "if __name__=='__main__':\n",
        "  # Use a different variable name, like 'eqinput', to avoid conflict with the built-in 'input' function.\n",
        "  eqinput = '(1+(2*3)+((8)/4))+1'\n",
        "  print(StackDepth().maximumDepth(eqinput))\n"
      ],
      "metadata": {
        "colab": {
          "base_uri": "https://localhost:8080/",
          "height": 0
        },
        "id": "ClFxCOLUKVa7",
        "outputId": "9829bb98-b26f-4a24-fc6a-7a229a23452c"
      },
      "execution_count": 19,
      "outputs": [
        {
          "output_type": "stream",
          "name": "stdout",
          "text": [
            "3\n"
          ]
        }
      ]
    },
    {
      "cell_type": "code",
      "source": [
        "class StackDepth:\n",
        "  def maximumDepth(self, stringInput : str) -> int:\n",
        "    stack = []\n",
        "    count = 0\n",
        "    count_list = []\n",
        "    for x in stringInput:\n",
        "      if x =='(' or x == ')':\n",
        "        stack.append(x)\n",
        "    for i in stack:\n",
        "      if i == '(':\n",
        "        count+=1\n",
        "      count_list.append(count)\n",
        "      if i == ')':\n",
        "        count-=1\n",
        "    return max(count_list)\n",
        "\n",
        "if __name__=='__main__':\n",
        "  # Use a different variable name, like 'eqinput', to avoid conflict with the built-in 'input' function.\n",
        "  eqinput = '()(())((()()))'\n",
        "  print(StackDepth().maximumDepth(eqinput))\n"
      ],
      "metadata": {
        "colab": {
          "base_uri": "https://localhost:8080/",
          "height": 0
        },
        "id": "M3edLqI_Kchz",
        "outputId": "e1c77508-24bc-4c37-f591-14c24defd275"
      },
      "execution_count": 20,
      "outputs": [
        {
          "output_type": "stream",
          "name": "stdout",
          "text": [
            "3\n"
          ]
        }
      ]
    }
  ]
}