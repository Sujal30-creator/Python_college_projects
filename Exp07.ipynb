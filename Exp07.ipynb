{
  "nbformat": 4,
  "nbformat_minor": 0,
  "metadata": {
    "colab": {
      "provenance": []
    },
    "kernelspec": {
      "name": "python3",
      "display_name": "Python 3"
    },
    "language_info": {
      "name": "python"
    }
  },
  "cells": [
    {
      "cell_type": "markdown",
      "source": [
        "Vaishnav Sujal Naresh, 51"
      ],
      "metadata": {
        "id": "anf9ZLhVaEa5"
      }
    },
    {
      "cell_type": "markdown",
      "source": [],
      "metadata": {
        "id": "Ua_n6EMtZ6ph"
      }
    },
    {
      "cell_type": "code",
      "execution_count": 1,
      "metadata": {
        "id": "3ZLsokaFI7u_"
      },
      "outputs": [],
      "source": [
        "import sqlite3"
      ]
    },
    {
      "cell_type": "code",
      "source": [
        "connection = sqlite3.connect ('./genericDatabase.db')\n",
        "cursor = connection.cursor ()"
      ],
      "metadata": {
        "id": "RMCIHLVYJA8d"
      },
      "execution_count": 2,
      "outputs": []
    },
    {
      "cell_type": "code",
      "source": [
        "cursor.execute('''\n",
        "    CREATE TABLE IF NOT EXISTS students (\n",
        "        id INTEGER PRIMARY KEY AUTOINCREMENT,\n",
        "        name TEXT NOT NULL,\n",
        "        age INTEGER NOT NULL\n",
        "    )\n",
        "''')\n",
        "\n",
        "connection.commit()"
      ],
      "metadata": {
        "id": "Ql1X1bFxJGvs"
      },
      "execution_count": 3,
      "outputs": []
    },
    {
      "cell_type": "code",
      "source": [
        "def create_student(name, age):\n",
        "    cursor.execute('''\n",
        "        INSERT INTO students (name, age)\n",
        "        VALUES (?, ?)\n",
        "    ''', (name, age))\n",
        "    connection.commit()\n",
        "    print(\"Record added successfully!\")\n",
        "\n",
        "create_student(\"Griffith\", 20)\n",
        "create_student(\"Guts\", 22)"
      ],
      "metadata": {
        "colab": {
          "base_uri": "https://localhost:8080/",
          "height": 0
        },
        "id": "VVw0M3MtJIcc",
        "outputId": "af663498-bba7-4f44-aedc-b35f708fa013"
      },
      "execution_count": 4,
      "outputs": [
        {
          "output_type": "stream",
          "name": "stdout",
          "text": [
            "Record added successfully!\n",
            "Record added successfully!\n"
          ]
        }
      ]
    },
    {
      "cell_type": "code",
      "source": [
        "def read_students():\n",
        "    cursor.execute('SELECT * FROM students')\n",
        "    rows = cursor.fetchall()\n",
        "    print(\"Student Records:\")\n",
        "    for row in rows:\n",
        "        print(row)\n",
        "\n",
        "read_students()"
      ],
      "metadata": {
        "colab": {
          "base_uri": "https://localhost:8080/",
          "height": 0
        },
        "id": "8Kqs5MS4JKnU",
        "outputId": "b1f39081-73ba-4d38-87ee-cc3eae37b94a"
      },
      "execution_count": 5,
      "outputs": [
        {
          "output_type": "stream",
          "name": "stdout",
          "text": [
            "Student Records:\n",
            "(1, 'Griffith', 20)\n",
            "(2, 'Guts', 22)\n"
          ]
        }
      ]
    },
    {
      "cell_type": "markdown",
      "source": [
        "UPDATE"
      ],
      "metadata": {
        "id": "CzPOor8FKvWr"
      }
    },
    {
      "cell_type": "code",
      "source": [
        "def update_student_age(student_id, new_age):\n",
        "    cursor.execute('''\n",
        "        UPDATE students\n",
        "        SET age = ?\n",
        "        WHERE id = ?\n",
        "\n",
        "\n",
        "    ''', (new_age, student_id))\n",
        "    connection.commit()\n",
        "    print(\"Student age updated successfully!\")\n",
        "\n",
        "update_student_age(1, 21)  # Updating Alice's age to 21\n",
        "read_students()"
      ],
      "metadata": {
        "colab": {
          "base_uri": "https://localhost:8080/",
          "height": 0
        },
        "id": "OkWDZQ-2JNHs",
        "outputId": "d4b58b39-2bc4-48dd-9ff8-c35b94b84e53"
      },
      "execution_count": 9,
      "outputs": [
        {
          "output_type": "stream",
          "name": "stdout",
          "text": [
            "Student age updated successfully!\n",
            "Student Records:\n",
            "(1, 'Griffith', 21)\n",
            "(2, 'Guts', 22)\n"
          ]
        }
      ]
    },
    {
      "cell_type": "markdown",
      "source": [
        "Delete"
      ],
      "metadata": {
        "id": "xOvEH-fkKw_7"
      }
    },
    {
      "cell_type": "code",
      "source": [
        "def delete_student(student_id):\n",
        "    cursor.execute('''\n",
        "        DELETE FROM students\n",
        "        WHERE id = ?\n",
        "\n",
        "\n",
        "    ''', (student_id,))\n",
        "    connection.commit()\n",
        "    print(\"Student deleted successfully!\")\n",
        "\n",
        "delete_student(2)  # Deleting Bob's record\n",
        "read_students()"
      ],
      "metadata": {
        "colab": {
          "base_uri": "https://localhost:8080/",
          "height": 0
        },
        "id": "pLCT15AgJYds",
        "outputId": "835cd8af-167a-4224-ca6a-9735a2bcbf25"
      },
      "execution_count": 10,
      "outputs": [
        {
          "output_type": "stream",
          "name": "stdout",
          "text": [
            "Student deleted successfully!\n",
            "Student Records:\n",
            "(1, 'Griffith', 21)\n"
          ]
        }
      ]
    }
  ]
}