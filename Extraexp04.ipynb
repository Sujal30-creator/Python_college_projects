{
  "nbformat": 4,
  "nbformat_minor": 0,
  "metadata": {
    "colab": {
      "provenance": []
    },
    "kernelspec": {
      "name": "python3",
      "display_name": "Python 3"
    },
    "language_info": {
      "name": "python"
    }
  },
  "cells": [
    {
      "cell_type": "code",
      "execution_count": 7,
      "metadata": {
        "colab": {
          "base_uri": "https://localhost:8080/"
        },
        "id": "Xt5XSMMh4fAv",
        "outputId": "881db93f-cc4b-4395-f5b8-bc081daa574b"
      },
      "outputs": [
        {
          "output_type": "stream",
          "name": "stdout",
          "text": [
            "Enter Method is executed\n",
            "Middle part is executed\n",
            "My name is sujal vaishnav.\n",
            "<class 'Exception'>, , <traceback object at 0x7a737daee6c0>\n",
            "Exit method is executed\n"
          ]
        }
      ],
      "source": [
        "class File:\n",
        "    def __init__ (self, filename, method):\n",
        "        self.file = open (filename, method)\n",
        "\n",
        "    def __enter__ (self):\n",
        "        print ('Enter Method is executed')\n",
        "        return self.file\n",
        "\n",
        "    def __exit__ (self, type, value, traceback):\n",
        "        print (f'{type}, {value}, {traceback}')\n",
        "        print ('Exit method is executed')\n",
        "        self.file.close ()\n",
        "        # return True\n",
        "        if type == Exception:\n",
        "            return True\n",
        "\n",
        "if __name__ == '__main__':\n",
        "    with File ('./test.txt', 'r') as f:\n",
        "        print ('Middle part is executed')\n",
        "        print(f.read())\n",
        "        raise Exception ()"
      ]
    },
    {
      "cell_type": "code",
      "source": [
        "class File:\n",
        "    def __init__ (self, filename, method):\n",
        "        self.file = open (filename, method)\n",
        "\n",
        "    def __enter__ (self):\n",
        "        print ('Enter Method is executed')\n",
        "        return self.file\n",
        "\n",
        "    def __exit__ (self, type, value, traceback):\n",
        "        print (f'{type}, {value}, {traceback}')\n",
        "        print ('Exit method is executed')\n",
        "        self.file.close ()\n",
        "        # return True\n",
        "        if type == Exception:\n",
        "            return True\n",
        "\n",
        "if __name__ == '__main__':\n",
        "    with File ('./test.txt', 'a') as f:\n",
        "        print ('Middle part is executed')\n",
        "        f.write ('Some generic content')\n",
        "        raise Exception ()"
      ],
      "metadata": {
        "colab": {
          "base_uri": "https://localhost:8080/"
        },
        "id": "FA-Y0TJE6c7G",
        "outputId": "8722b6e2-2b4d-4907-ebec-88d0ff1dd29e"
      },
      "execution_count": 8,
      "outputs": [
        {
          "output_type": "stream",
          "name": "stdout",
          "text": [
            "Enter Method is executed\n",
            "Middle part is executed\n",
            "<class 'Exception'>, , <traceback object at 0x7a737daee640>\n",
            "Exit method is executed\n"
          ]
        }
      ]
    },
    {
      "cell_type": "code",
      "source": [
        "class File:\n",
        "    def __init__ (self, filename, method):\n",
        "        self.file = open (filename, method)\n",
        "\n",
        "    def __enter__ (self):\n",
        "        print ('Enter Method is executed')\n",
        "        return self.file\n",
        "\n",
        "    def __exit__ (self, type, value, traceback):\n",
        "        print (f'{type}, {value}, {traceback}')\n",
        "        print ('Exit method is executed')\n",
        "        self.file.close ()\n",
        "        # return True\n",
        "        if type == Exception:\n",
        "            return True\n",
        "\n",
        "if __name__ == '__main__':\n",
        "    with File ('./test.txt', 'r') as f:\n",
        "        print ('Middle part is executed')\n",
        "        print(f.read())\n",
        "        raise Exception ()"
      ],
      "metadata": {
        "colab": {
          "base_uri": "https://localhost:8080/"
        },
        "id": "mFDF3F697FAe",
        "outputId": "afbf3614-8574-421d-ca59-bdefd24c1c71"
      },
      "execution_count": 10,
      "outputs": [
        {
          "output_type": "stream",
          "name": "stdout",
          "text": [
            "Enter Method is executed\n",
            "Middle part is executed\n",
            "My name is sujal vaishnav.Some generic content\n",
            "<class 'Exception'>, , <traceback object at 0x7a737e73dbc0>\n",
            "Exit method is executed\n"
          ]
        }
      ]
    },
    {
      "cell_type": "code",
      "source": [
        "class File:\n",
        "    def __init__ (self, filename, method):\n",
        "        self.file = open (filename, method)\n",
        "\n",
        "    def __enter__ (self):\n",
        "        print ('Enter Method is executed')\n",
        "        return self.file\n",
        "\n",
        "    def __exit__ (self, type, value, traceback):\n",
        "        print (f'{type}, {value}, {traceback}')\n",
        "        print ('Exit method is executed')\n",
        "        self.file.close ()\n",
        "        # return True\n",
        "        if type == Exception:\n",
        "            return True\n",
        "\n",
        "if __name__ == '__main__':\n",
        "    with File ('./test.txt', 'w') as f:\n",
        "        print ('Middle part is executed')\n",
        "        f.write ('More generic content')\n",
        "        raise Exception ()"
      ],
      "metadata": {
        "colab": {
          "base_uri": "https://localhost:8080/"
        },
        "id": "GpdTZzlL9lp-",
        "outputId": "9a759641-5115-493f-808a-bf08d6164370"
      },
      "execution_count": 11,
      "outputs": [
        {
          "output_type": "stream",
          "name": "stdout",
          "text": [
            "Enter Method is executed\n",
            "Middle part is executed\n",
            "<class 'Exception'>, , <traceback object at 0x7a737e1da240>\n",
            "Exit method is executed\n"
          ]
        }
      ]
    },
    {
      "cell_type": "code",
      "source": [
        "class File:\n",
        "    def __init__ (self, filename, method):\n",
        "        self.file = open (filename, method)\n",
        "\n",
        "    def __enter__ (self):\n",
        "        print ('Enter Method is executed')\n",
        "        return self.file\n",
        "\n",
        "    def __exit__ (self, type, value, traceback):\n",
        "        print (f'{type}, {value}, {traceback}')\n",
        "        print ('Exit method is executed')\n",
        "        self.file.close ()\n",
        "        # return True\n",
        "        if type == Exception:\n",
        "            return True\n",
        "\n",
        "if __name__ == '__main__':\n",
        "    with File ('./test.txt', 'r') as f:\n",
        "        print ('Middle part is executed')\n",
        "        print(f.read())\n",
        "        raise Exception ()"
      ],
      "metadata": {
        "colab": {
          "base_uri": "https://localhost:8080/"
        },
        "id": "DXnI2Fmy9v52",
        "outputId": "a3677a9d-088c-4bc5-cf97-2389a05579d8"
      },
      "execution_count": 12,
      "outputs": [
        {
          "output_type": "stream",
          "name": "stdout",
          "text": [
            "Enter Method is executed\n",
            "Middle part is executed\n",
            "More generic content\n",
            "<class 'Exception'>, , <traceback object at 0x7a737e112840>\n",
            "Exit method is executed\n"
          ]
        }
      ]
    }
  ]
}
