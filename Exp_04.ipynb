{
  "nbformat": 4,
  "nbformat_minor": 0,
  "metadata": {
    "colab": {
      "provenance": []
    },
    "kernelspec": {
      "name": "python3",
      "display_name": "Python 3"
    },
    "language_info": {
      "name": "python"
    }
  },
  "cells": [
    {
      "cell_type": "code",
      "execution_count": 2,
      "metadata": {
        "id": "EEJJ1Amk9ewF"
      },
      "outputs": [],
      "source": [
        "from contextlib import contextmanager\n",
        "\n",
        "@contextmanager\n",
        "def genericFileFunction (filename, method):\n",
        "    file = open (filename, method)\n",
        "    yield file\n",
        "    file.close ()\n",
        "\n",
        "if __name__ == '__main__':\n",
        "    with genericFileFunction ('test.txt','w') as f:\n",
        "      f.write('this is the second part')\n",
        "    # Remove the pass and call the function to perform write.\n",
        "    # Read the file that was created while writing.\n",
        "    # Make the changes in the file by appending some material.\n",
        "    # Again read the same file.\n",
        "\n",
        "    '''\n",
        "    Print all the output of the function.\n",
        "    For better representation, please use jupyter.\n",
        "    Will also aid in easy maintanence of files for submissions.\n",
        "    '''\n",
        "\n"
      ]
    },
    {
      "cell_type": "code",
      "source": [
        "from contextlib import contextmanager\n",
        "\n",
        "@contextmanager\n",
        "def genericFileFunction (filename, method):\n",
        "    file = open (filename, method)\n",
        "    yield file\n",
        "    file.close ()\n",
        "\n",
        "if __name__ == '__main__':\n",
        "    with genericFileFunction ('test.txt','r') as f:\n",
        "      print(f.read())\n",
        "    # Remove the pass and call the function to perform write.\n",
        "    # Read the file that was created while writing.\n",
        "    # Make the changes in the file by appending some material.\n",
        "    # Again read the same file.\n",
        "\n",
        "    '''\n",
        "    Print all the output of the function.\n",
        "    For better representation, please use jupyter.\n",
        "    Will also aid in easy maintanence of files for submissions.\n",
        "    '''\n",
        "\n"
      ],
      "metadata": {
        "colab": {
          "base_uri": "https://localhost:8080/"
        },
        "id": "bhevRNaLA4DO",
        "outputId": "908962e8-3a1e-4aea-e28c-29b2bb7cab37"
      },
      "execution_count": 3,
      "outputs": [
        {
          "output_type": "stream",
          "name": "stdout",
          "text": [
            "this is the second part\n"
          ]
        }
      ]
    },
    {
      "cell_type": "code",
      "source": [
        "from contextlib import contextmanager\n",
        "\n",
        "@contextmanager\n",
        "def genericFileFunction (filename, method):\n",
        "    file = open (filename, method)\n",
        "    yield file\n",
        "    file.close ()\n",
        "\n",
        "if __name__ == '__main__':\n",
        "    with genericFileFunction ('test.txt','a') as f:\n",
        "      f.write('this is the second part')\n",
        "    # Remove the pass and call the function to perform write.\n",
        "    # Read the file that was created while writing.\n",
        "    # Make the changes in the file by appending some material.\n",
        "    # Again read the same file.\n",
        "\n",
        "    '''\n",
        "    Print all the output of the function.\n",
        "    For better representation, please use jupyter.\n",
        "    Will also aid in easy maintanence of files for submissions.\n",
        "    '''\n",
        "\n"
      ],
      "metadata": {
        "id": "ntgmTpjzB0om"
      },
      "execution_count": 4,
      "outputs": []
    },
    {
      "cell_type": "code",
      "source": [
        "from contextlib import contextmanager\n",
        "\n",
        "@contextmanager\n",
        "def genericFileFunction (filename, method):\n",
        "    file = open (filename, method)\n",
        "    yield file\n",
        "    file.close ()\n",
        "\n",
        "if __name__ == '__main__':\n",
        "    with genericFileFunction ('test.txt','r') as f:\n",
        "      print(f.read())\n",
        "    # Remove the pass and call the function to perform write.\n",
        "    # Read the file that was created while writing.\n",
        "    # Make the changes in the file by appending some material.\n",
        "    # Again read the same file.\n",
        "\n",
        "    '''\n",
        "    Print all the output of the function.\n",
        "    For better representation, please use jupyter.\n",
        "    Will also aid in easy maintanence of files for submissions.\n",
        "    '''\n",
        "\n"
      ],
      "metadata": {
        "colab": {
          "base_uri": "https://localhost:8080/"
        },
        "id": "xfRfGivqB7W1",
        "outputId": "b011567b-8229-4005-ba6f-4b4a9da11401"
      },
      "execution_count": 5,
      "outputs": [
        {
          "output_type": "stream",
          "name": "stdout",
          "text": [
            "this is the second partthis is the second part\n"
          ]
        }
      ]
    }
  ]
}